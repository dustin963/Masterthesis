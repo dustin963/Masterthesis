{
 "cells": [
  {
   "cell_type": "code",
   "execution_count": 14,
   "metadata": {},
   "outputs": [],
   "source": [
    "import pandas as pd\n",
    "import glob"
   ]
  },
  {
   "cell_type": "code",
   "execution_count": 21,
   "metadata": {},
   "outputs": [],
   "source": [
    "reviews = pd.read_excel(open('15.06NRautoreduced to 100.xlsx', 'rb'),\n",
    "              sheet_name='evaluations') \n",
    "reviews = reviews[reviews[\"customer dimension\"]!=\"not classified\"]"
   ]
  },
  {
   "cell_type": "code",
   "execution_count": 16,
   "metadata": {},
   "outputs": [],
   "source": [
    "diccfilepaths = glob.glob(\"Dictionaries German language/*\")\n",
    "\n",
    "\n",
    "#sentdict = pd.read_csv(diccfilepaths[0])\n",
    "\n",
    "diccdf1 = pd.read_csv(\n",
    "diccfilepaths[0], sep=\"\\t\",header=None)\n",
    "diccdf2 = pd.read_csv(\n",
    "diccfilepaths[1], sep=\"\\t\",header=None)\n",
    "\n",
    "\n",
    "diccdf = pd.concat([diccdf2,diccdf1],ignore_index=True)\n",
    "    \n",
    "\n",
    "diccdf[0] = diccdf[0].map(lambda x: x[0:x.find(\"|\")]+\",\")\n",
    "diccdf[\"words\"] = (diccdf[0]+diccdf[2]).astype(str)\n",
    "diccdf.fillna(\"nan\",inplace=True)"
   ]
  },
  {
   "cell_type": "code",
   "execution_count": 17,
   "metadata": {},
   "outputs": [],
   "source": [
    "reviewsfirsttopic = reviews[reviews[\"customer dimension\"]==\"App\"]\n"
   ]
  },
  {
   "cell_type": "code",
   "execution_count": 25,
   "metadata": {},
   "outputs": [],
   "source": [
    "def countsentiments(filteredreviews,listofsentiments):\n",
    "\n",
    "    wordlist =[]\n",
    "    countsofwords = []\n",
    "    iteration = -1\n",
    "    for row in listofsentiments[\"words\"]:\n",
    "        iteration = iteration +1\n",
    "        if row !=\"nan\":\n",
    "            #print(row)\n",
    "            wordlist = str(row).split(\",\")\n",
    "            shortcount = []\n",
    "            \n",
    "            for word in wordlist:\n",
    "                \n",
    "                shortcount.append(filteredreviews['body'].str.count(\" \"+word.lower()+\" \").sum())\n",
    "            countsofwords.append(sum(shortcount))\n",
    "        if row ==\"nan\":\n",
    "            singleword = (listofsentiments[0][iteration])[:-1]\n",
    "            #print(\"NAN value    \" +  singleword)\n",
    "            countsofwords.append(filteredreviews['body'].str.count(str(\" \"+singleword.lower()+\" \")).sum())\n",
    "\n",
    "    listofsentiments[\"counts for topic: \"+str(filteredreviews[\"customer dimension\"].iloc[0])] = countsofwords\n",
    "    return listofsentiments\n",
    "#for word in diccdf[0]:\n",
    "    #countsofwords.append(customerevaluations['body'].str.count(word).sum())\n",
    "\n"
   ]
  },
  {
   "cell_type": "code",
   "execution_count": 26,
   "metadata": {},
   "outputs": [
    {
     "name": "stdout",
     "output_type": "stream",
     "text": [
      "Transfer\n",
      "Praise\n",
      "Telefon\n",
      "App\n",
      "Usage\n",
      "Bank Card\n",
      "Account Termination\n",
      "Complain\n",
      "Fraud\n",
      "Apple Pay\n",
      "Inquery\n",
      "Customer Service\n",
      "Account Opening\n",
      "Online Banking\n",
      "Bank Account\n",
      "Employee\n",
      "Costs\n",
      "Advisery\n",
      "Fintech Functions\n",
      "Credit\n",
      "ATM\n",
      "Tan\n"
     ]
    }
   ],
   "source": [
    "dimensions = reviews[\"customer dimension\"].unique()\n",
    "for dimension in dimensions:\n",
    "    filteredreviews = reviews[reviews[\"customer dimension\"]==dimension]\n",
    "    print(dimension)\n",
    "    reviewcounts = countsentiments(filteredreviews,diccdf)\n"
   ]
  },
  {
   "cell_type": "code",
   "execution_count": 27,
   "metadata": {},
   "outputs": [],
   "source": [
    "with pd.ExcelWriter('sentimentanalysisfordimensions15.06.xlsx') as writer:  \n",
    "    reviewcounts.to_excel(writer, sheet_name='Wordlist')"
   ]
  }
 ],
 "metadata": {
  "kernelspec": {
   "display_name": "Python 3.7.4 64-bit",
   "language": "python",
   "name": "python3"
  },
  "language_info": {
   "codemirror_mode": {
    "name": "ipython",
    "version": 3
   },
   "file_extension": ".py",
   "mimetype": "text/x-python",
   "name": "python",
   "nbconvert_exporter": "python",
   "pygments_lexer": "ipython3",
   "version": "3.7.4"
  },
  "orig_nbformat": 4,
  "vscode": {
   "interpreter": {
    "hash": "bd60cb1fff92a47e9f59bb791192b4be3eac6763708ee8af808223f82f2837ce"
   }
  }
 },
 "nbformat": 4,
 "nbformat_minor": 2
}
